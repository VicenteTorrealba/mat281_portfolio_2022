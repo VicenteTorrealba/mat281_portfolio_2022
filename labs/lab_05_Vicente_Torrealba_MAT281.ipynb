{
  "cells": [
    {
      "cell_type": "markdown",
      "metadata": {
        "id": "g6sur8s4jTtw"
      },
      "source": [
        "<a href=\"https://colab.research.google.com/github/fralfaro/MAT281_2022/blob/main/labs/lab_05/lab_05.ipynb\n",
        "\" target=\"_parent\"><img src=\"https://colab.research.google.com/assets/colab-badge.svg\" alt=\"Open In Colab\"/></a>\n",
        "\n",
        "\n",
        "# MAT281 - Laboratorio N°05\n",
        "\n"
      ]
    },
    {
      "cell_type": "markdown",
      "metadata": {
        "id": "YlhZyrFOjTtz"
      },
      "source": [
        "## Problema 01\n",
        "<img src=\"https://storage.googleapis.com/kaggle-datasets-images/19/19/default-backgrounds/dataset-card.jpg\" width=\"360\" height=\"360\" align=\"center\"/>"
      ]
    },
    {
      "cell_type": "markdown",
      "metadata": {
        "id": "XBAeSmJ6jTt0"
      },
      "source": [
        "El **Iris dataset** es un conjunto de datos que contine una  muestras de tres especies de Iris (Iris setosa, Iris virginica e Iris versicolor). Se midió cuatro rasgos de cada muestra: el largo y ancho del sépalo y pétalo, en centímetros.\n",
        "\n",
        "Lo primero es cargar el conjunto de datos y ver las primeras filas que lo componen:"
      ]
    },
    {
      "cell_type": "code",
      "execution_count": 19,
      "metadata": {
        "id": "W7OZqIWGjTt0"
      },
      "outputs": [],
      "source": [
        "# librerias\n",
        " \n",
        "import os\n",
        "import numpy as np\n",
        "import pandas as pd\n",
        "\n",
        "import matplotlib.pyplot as plt\n",
        "import seaborn as sns \n",
        "pd.set_option('display.max_columns', 500)  # Ver más columnas de los dataframes\n",
        "\n",
        "\n",
        "# Ver gráficos de matplotlib en jupyter notebook/lab\n",
        "%matplotlib inline"
      ]
    },
    {
      "cell_type": "code",
      "execution_count": 20,
      "metadata": {
        "colab": {
          "base_uri": "https://localhost:8080/",
          "height": 206
        },
        "id": "1vBcYXK4jTt2",
        "outputId": "8f79542a-290f-461b-bd91-8b645fff6e83"
      },
      "outputs": [
        {
          "output_type": "execute_result",
          "data": {
            "text/plain": [
              "   sepalLength  sepalWidth  petalLength  petalWidth     species\n",
              "0          4.4         3.2          1.3         3.0      setosa\n",
              "1          7.2         3.6          6.1         2.5   virginica\n",
              "2          6.3         3.3          6.0         2.5   VIRGINICA\n",
              "3          6.7         3.3          5.7         2.5   virginica\n",
              "4          6.3         3.4          5.6         2.4   virginica"
            ],
            "text/html": [
              "\n",
              "  <div id=\"df-8698bced-1896-4903-9bf2-ff9753a550ee\">\n",
              "    <div class=\"colab-df-container\">\n",
              "      <div>\n",
              "<style scoped>\n",
              "    .dataframe tbody tr th:only-of-type {\n",
              "        vertical-align: middle;\n",
              "    }\n",
              "\n",
              "    .dataframe tbody tr th {\n",
              "        vertical-align: top;\n",
              "    }\n",
              "\n",
              "    .dataframe thead th {\n",
              "        text-align: right;\n",
              "    }\n",
              "</style>\n",
              "<table border=\"1\" class=\"dataframe\">\n",
              "  <thead>\n",
              "    <tr style=\"text-align: right;\">\n",
              "      <th></th>\n",
              "      <th>sepalLength</th>\n",
              "      <th>sepalWidth</th>\n",
              "      <th>petalLength</th>\n",
              "      <th>petalWidth</th>\n",
              "      <th>species</th>\n",
              "    </tr>\n",
              "  </thead>\n",
              "  <tbody>\n",
              "    <tr>\n",
              "      <th>0</th>\n",
              "      <td>4.4</td>\n",
              "      <td>3.2</td>\n",
              "      <td>1.3</td>\n",
              "      <td>3.0</td>\n",
              "      <td>setosa</td>\n",
              "    </tr>\n",
              "    <tr>\n",
              "      <th>1</th>\n",
              "      <td>7.2</td>\n",
              "      <td>3.6</td>\n",
              "      <td>6.1</td>\n",
              "      <td>2.5</td>\n",
              "      <td>virginica</td>\n",
              "    </tr>\n",
              "    <tr>\n",
              "      <th>2</th>\n",
              "      <td>6.3</td>\n",
              "      <td>3.3</td>\n",
              "      <td>6.0</td>\n",
              "      <td>2.5</td>\n",
              "      <td>VIRGINICA</td>\n",
              "    </tr>\n",
              "    <tr>\n",
              "      <th>3</th>\n",
              "      <td>6.7</td>\n",
              "      <td>3.3</td>\n",
              "      <td>5.7</td>\n",
              "      <td>2.5</td>\n",
              "      <td>virginica</td>\n",
              "    </tr>\n",
              "    <tr>\n",
              "      <th>4</th>\n",
              "      <td>6.3</td>\n",
              "      <td>3.4</td>\n",
              "      <td>5.6</td>\n",
              "      <td>2.4</td>\n",
              "      <td>virginica</td>\n",
              "    </tr>\n",
              "  </tbody>\n",
              "</table>\n",
              "</div>\n",
              "      <button class=\"colab-df-convert\" onclick=\"convertToInteractive('df-8698bced-1896-4903-9bf2-ff9753a550ee')\"\n",
              "              title=\"Convert this dataframe to an interactive table.\"\n",
              "              style=\"display:none;\">\n",
              "        \n",
              "  <svg xmlns=\"http://www.w3.org/2000/svg\" height=\"24px\"viewBox=\"0 0 24 24\"\n",
              "       width=\"24px\">\n",
              "    <path d=\"M0 0h24v24H0V0z\" fill=\"none\"/>\n",
              "    <path d=\"M18.56 5.44l.94 2.06.94-2.06 2.06-.94-2.06-.94-.94-2.06-.94 2.06-2.06.94zm-11 1L8.5 8.5l.94-2.06 2.06-.94-2.06-.94L8.5 2.5l-.94 2.06-2.06.94zm10 10l.94 2.06.94-2.06 2.06-.94-2.06-.94-.94-2.06-.94 2.06-2.06.94z\"/><path d=\"M17.41 7.96l-1.37-1.37c-.4-.4-.92-.59-1.43-.59-.52 0-1.04.2-1.43.59L10.3 9.45l-7.72 7.72c-.78.78-.78 2.05 0 2.83L4 21.41c.39.39.9.59 1.41.59.51 0 1.02-.2 1.41-.59l7.78-7.78 2.81-2.81c.8-.78.8-2.07 0-2.86zM5.41 20L4 18.59l7.72-7.72 1.47 1.35L5.41 20z\"/>\n",
              "  </svg>\n",
              "      </button>\n",
              "      \n",
              "  <style>\n",
              "    .colab-df-container {\n",
              "      display:flex;\n",
              "      flex-wrap:wrap;\n",
              "      gap: 12px;\n",
              "    }\n",
              "\n",
              "    .colab-df-convert {\n",
              "      background-color: #E8F0FE;\n",
              "      border: none;\n",
              "      border-radius: 50%;\n",
              "      cursor: pointer;\n",
              "      display: none;\n",
              "      fill: #1967D2;\n",
              "      height: 32px;\n",
              "      padding: 0 0 0 0;\n",
              "      width: 32px;\n",
              "    }\n",
              "\n",
              "    .colab-df-convert:hover {\n",
              "      background-color: #E2EBFA;\n",
              "      box-shadow: 0px 1px 2px rgba(60, 64, 67, 0.3), 0px 1px 3px 1px rgba(60, 64, 67, 0.15);\n",
              "      fill: #174EA6;\n",
              "    }\n",
              "\n",
              "    [theme=dark] .colab-df-convert {\n",
              "      background-color: #3B4455;\n",
              "      fill: #D2E3FC;\n",
              "    }\n",
              "\n",
              "    [theme=dark] .colab-df-convert:hover {\n",
              "      background-color: #434B5C;\n",
              "      box-shadow: 0px 1px 3px 1px rgba(0, 0, 0, 0.15);\n",
              "      filter: drop-shadow(0px 1px 2px rgba(0, 0, 0, 0.3));\n",
              "      fill: #FFFFFF;\n",
              "    }\n",
              "  </style>\n",
              "\n",
              "      <script>\n",
              "        const buttonEl =\n",
              "          document.querySelector('#df-8698bced-1896-4903-9bf2-ff9753a550ee button.colab-df-convert');\n",
              "        buttonEl.style.display =\n",
              "          google.colab.kernel.accessAllowed ? 'block' : 'none';\n",
              "\n",
              "        async function convertToInteractive(key) {\n",
              "          const element = document.querySelector('#df-8698bced-1896-4903-9bf2-ff9753a550ee');\n",
              "          const dataTable =\n",
              "            await google.colab.kernel.invokeFunction('convertToInteractive',\n",
              "                                                     [key], {});\n",
              "          if (!dataTable) return;\n",
              "\n",
              "          const docLinkHtml = 'Like what you see? Visit the ' +\n",
              "            '<a target=\"_blank\" href=https://colab.research.google.com/notebooks/data_table.ipynb>data table notebook</a>'\n",
              "            + ' to learn more about interactive tables.';\n",
              "          element.innerHTML = '';\n",
              "          dataTable['output_type'] = 'display_data';\n",
              "          await google.colab.output.renderOutput(dataTable, element);\n",
              "          const docLink = document.createElement('div');\n",
              "          docLink.innerHTML = docLinkHtml;\n",
              "          element.appendChild(docLink);\n",
              "        }\n",
              "      </script>\n",
              "    </div>\n",
              "  </div>\n",
              "  "
            ]
          },
          "metadata": {},
          "execution_count": 20
        }
      ],
      "source": [
        "# cargar datos\n",
        "df = pd.read_csv(\"https://raw.githubusercontent.com/fralfaro/MAT281_2022/main/labs/lab_05/data/iris_contaminados.csv\")\n",
        "df.columns = ['sepalLength',\n",
        "                  'sepalWidth',\n",
        "                  'petalLength',\n",
        "                  'petalWidth',\n",
        "                  'species']\n",
        "\n",
        "df.head() "
      ]
    },
    {
      "cell_type": "markdown",
      "metadata": {
        "id": "R19_-5bdjTt3"
      },
      "source": [
        "### Bases del experimento\n",
        "\n",
        "Lo primero es identificar las variables que influyen en el estudio y la naturaleza de esta.\n",
        "\n",
        "* **species**: \n",
        "    * Descripción: Nombre de la especie de Iris. \n",
        "    * Tipo de dato: *string*\n",
        "    * Limitantes: solo existen tres tipos (setosa, virginia y versicolor).\n",
        "* **sepalLength**: \n",
        "    * Descripción: largo del sépalo. \n",
        "    * Tipo de dato: *float*. \n",
        "    * Limitantes: los valores se encuentran entre 4.0 y 7.0 cm.\n",
        "* **sepalWidth**: \n",
        "    * Descripción: ancho del sépalo. \n",
        "    * Tipo de dato: *float*. \n",
        "    * Limitantes: los valores se encuentran entre 2.0 y 4.5 cm.\n",
        "* **petalLength**: \n",
        "    * Descripción: largo del pétalo. \n",
        "    * Tipo de dato: *float*. \n",
        "    * Limitantes: los valores se encuentran entre 1.0 y 7.0 cm.\n",
        "* **petalWidth**: \n",
        "    * Descripción: ancho del pépalo. \n",
        "    * Tipo de dato: *float*. \n",
        "    * Limitantes: los valores se encuentran entre 0.1 y 2.5 cm."
      ]
    },
    {
      "cell_type": "markdown",
      "metadata": {
        "id": "dp3xP_XZjTt4"
      },
      "source": [
        "Su objetivo es realizar un correcto **E.D.A.**, para esto debe seguir las siguientes intrucciones:"
      ]
    },
    {
      "cell_type": "markdown",
      "metadata": {
        "id": "q8s7od1ojTt4"
      },
      "source": [
        "1. Realizar un conteo de elementos de la columna **species** y corregir según su criterio. Reemplace por \"default\" los valores nan.."
      ]
    },
    {
      "cell_type": "code",
      "execution_count": 21,
      "metadata": {
        "colab": {
          "base_uri": "https://localhost:8080/"
        },
        "id": "-1dgBXgjjTt5",
        "outputId": "02948770-6abd-4c04-870b-db518124feb1"
      },
      "outputs": [
        {
          "output_type": "stream",
          "name": "stdout",
          "text": [
            "     sepalLength  sepalWidth  petalLength  petalWidth     species\n",
            "0            4.4         3.2          1.3         3.0      setosa\n",
            "1            7.2         3.6          6.1         2.5   virginica\n",
            "2            6.3         3.3          6.0         2.5   VIRGINICA\n",
            "3            6.7         3.3          5.7         2.5   virginica\n",
            "4            6.3         3.4          5.6         2.4   virginica\n",
            "..           ...         ...          ...         ...         ...\n",
            "145          5.3         3.0          1.1         0.1      Setosa\n",
            "146          4.8         3.0          1.4         0.1      Setosa\n",
            "147          4.9         3.1          1.5         0.1      Setosa\n",
            "148          4.9         3.6          1.4         0.1      setosa\n",
            "149          5.2         4.1          1.5         0.1      setosa\n",
            "\n",
            "[150 rows x 5 columns]\n",
            "     sepalLength  sepalWidth  petalLength  petalWidth    species\n",
            "0            4.4         3.2          1.3         3.0     setosa\n",
            "1            7.2         3.6          6.1         2.5  virginica\n",
            "2            6.3         3.3          6.0         2.5  virginica\n",
            "3            6.7         3.3          5.7         2.5  virginica\n",
            "4            6.3         3.4          5.6         2.4  virginica\n",
            "..           ...         ...          ...         ...        ...\n",
            "145          5.3         3.0          1.1         0.1     setosa\n",
            "146          4.8         3.0          1.4         0.1     setosa\n",
            "147          4.9         3.1          1.5         0.1     setosa\n",
            "148          4.9         3.6          1.4         0.1     setosa\n",
            "149          5.2         4.1          1.5         0.1     setosa\n",
            "\n",
            "[150 rows x 5 columns]\n"
          ]
        },
        {
          "output_type": "stream",
          "name": "stderr",
          "text": [
            "/usr/local/lib/python3.7/dist-packages/pandas/core/indexing.py:1732: SettingWithCopyWarning: \n",
            "A value is trying to be set on a copy of a slice from a DataFrame\n",
            "\n",
            "See the caveats in the documentation: https://pandas.pydata.org/pandas-docs/stable/user_guide/indexing.html#returning-a-view-versus-a-copy\n",
            "  self._setitem_single_block(indexer, value, name)\n"
          ]
        }
      ],
      "source": [
        "print(df)\n",
        "df['species'].loc[df['species']=='VIRGINICA'] = 'virginica'\n",
        "df['species'].loc[df['species']==' virginica'] = 'virginica'\n",
        "df['species'].loc[df['species']=='virginica '] = 'virginica'\n",
        "df['species'].loc[df['species']=='SETOSA'] = 'setosa'\n",
        "df['species'].loc[df['species']=='Setosa'] = 'setosa'\n",
        "df['species'].loc[df['species']=='Versicolor'] = 'versicolor'\n",
        "df['species'].loc[df['species']=='VERSICOLOR'] = 'versicolor'\n",
        "df.loc[df['species'].isnull(),'species'] = 'default'\n",
        "print(df)"
      ]
    },
    {
      "cell_type": "markdown",
      "metadata": {
        "id": "VVpL-bqojTt5"
      },
      "source": [
        "2. Realizar un gráfico de box-plot sobre el largo y ancho de los petalos y sépalos. Reemplace por **0** los valores nan."
      ]
    },
    {
      "cell_type": "code",
      "execution_count": 22,
      "metadata": {
        "colab": {
          "base_uri": "https://localhost:8080/",
          "height": 374
        },
        "id": "NZhMsAekjTt6",
        "outputId": "c7fab43b-e16d-4c93-f36c-c5c67a14af2d"
      },
      "outputs": [
        {
          "output_type": "display_data",
          "data": {
            "text/plain": [
              "<Figure size 720x432 with 1 Axes>"
            ],
            "image/png": "[encoded data removed]"
          },
          "metadata": {
            "needs_background": "light"
          }
        }
      ],
      "source": [
        "df.loc[df['sepalLength']==0] = '0'\n",
        "df.loc[df['sepalWidth']==0] = '0'\n",
        "df.loc[df['petalLength']==0] = '0'\n",
        "df.loc[df['petalWidth']==0] = '0'\n",
        "dff = df.drop(['species'],axis=1)\n",
        "plt.figure(figsize=(10, 6))\n",
        "sns.boxplot(data=dff)\n",
        "plt.show()\n"
      ]
    },
    {
      "cell_type": "markdown",
      "metadata": {
        "id": "yV0-rX5yjTt6"
      },
      "source": [
        "3. Anteriormente se define un rango de valores válidos para los valores del largo y ancho de los petalos y sépalos. Agregue una columna denominada **label**  que identifique cuál de estos valores esta fuera del rango de valores válidos."
      ]
    },
    {
      "cell_type": "code",
      "execution_count": 24,
      "metadata": {
        "colab": {
          "base_uri": "https://localhost:8080/"
        },
        "id": "X9ibE2c2jTt6",
        "outputId": "5a66c4de-332a-49d0-dd59-38bca062cd53"
      },
      "outputs": [
        {
          "output_type": "stream",
          "name": "stdout",
          "text": [
            "                       label sepalLength sepalWidth petalLength petalWidth  \\\n",
            "0                 petalWidth         4.4        3.2         1.3        3.0   \n",
            "1    sepalLength, petalWidth         7.2        3.6         6.1        2.5   \n",
            "2                 petalWidth         6.3        3.3         6.0        2.5   \n",
            "3                 petalWidth         6.7        3.3         5.7        2.5   \n",
            "4                          0         6.3        3.4         5.6        2.4   \n",
            "..                       ...         ...        ...         ...        ...   \n",
            "145               petalWidth         5.3        3.0         1.1        0.1   \n",
            "146               petalWidth         4.8        3.0         1.4        0.1   \n",
            "147               petalWidth         4.9        3.1         1.5        0.1   \n",
            "148               petalWidth         4.9        3.6         1.4        0.1   \n",
            "149               petalWidth         5.2        4.1         1.5        0.1   \n",
            "\n",
            "       species  \n",
            "0       setosa  \n",
            "1    virginica  \n",
            "2    virginica  \n",
            "3    virginica  \n",
            "4    virginica  \n",
            "..         ...  \n",
            "145     setosa  \n",
            "146     setosa  \n",
            "147     setosa  \n",
            "148     setosa  \n",
            "149     setosa  \n",
            "\n",
            "[150 rows x 6 columns]\n"
          ]
        },
        {
          "output_type": "stream",
          "name": "stderr",
          "text": [
            "/usr/local/lib/python3.7/dist-packages/pandas/core/indexing.py:1732: SettingWithCopyWarning: \n",
            "A value is trying to be set on a copy of a slice from a DataFrame\n",
            "\n",
            "See the caveats in the documentation: https://pandas.pydata.org/pandas-docs/stable/user_guide/indexing.html#returning-a-view-versus-a-copy\n",
            "  self._setitem_single_block(indexer, value, name)\n"
          ]
        }
      ],
      "source": [
        "df.insert(0,'label',0) # comentado por que despues de hacerlo una vez me decia error por que ya existe\n",
        "\n",
        "df['label'].loc[(df['sepalLength']>= 7) | (df['sepalLength'] <= 4)] ='sepalLength'\n",
        "df['label'].loc[(df['sepalWidth']>= 4.5) | (df['sepalWidth'] <= 2)] ='sepalWidth'\n",
        "df['label'].loc[(df['petalLength']>= 7) | (df['petalLength'] <= 1)] ='petalLength'\n",
        "df['label'].loc[(df['petalWidth']>= 2.5) | (df['petalWidth'] <= 0.1)] ='petalWidth'\n",
        "df['label'].loc[((df['sepalLength']>= 7) | (df['sepalLength'] <= 4)) & ((df['sepalWidth']>= 4.5) | (df['sepalWidth'] <= 2))] ='sepalLength, sepalWidth'\n",
        "df['label'].loc[((df['sepalLength']>= 7) | (df['sepalLength'] <= 4)) & ((df['petalLength']>= 7) | (df['petalLength'] <= 1))] ='sepalLength, petalLength'\n",
        "df['label'].loc[((df['sepalLength']>= 7) | (df['sepalLength'] <= 4)) & ((df['petalWidth']>= 2.5) | (df['petalWidth'] <= 0.1)) ] ='sepalLength, petalWidth'\n",
        "df['label'].loc[((df['sepalWidth']>= 4.5) | (df['sepalWidth'] <= 2)) & ((df['petalLength']>= 7) | (df['petalLength'] <= 1))] ='sepalWidth, petalLength'\n",
        "df['label'].loc[((df['sepalWidth']>= 4.5) | (df['sepalWidth'] <= 2)) & ((df['petalWidth']>= 2.5) | (df['petalWidth'] <= 0.1)) ] ='sepalWidth, petalWidth'\n",
        "df['label'].loc[((df['petalLength']>= 7) | (df['petalLength'] <= 1)) & ((df['petalWidth']>= 2.5) | (df['petalWidth'] <= 0.1)) ] ='petalLength, petalWidth'\n",
        "df['label'].loc[((df['sepalLength']>= 7) | (df['sepalLength'] <= 4)) & ((df['sepalWidth']>= 4.5) | (df['sepalWidth'] <= 2)) & ((df['petalLength']>= 7) | (df['petalLength'] <= 1))] = 'sepalWidth, petalLength, petalWidth'\n",
        "df['label'].loc[((df['sepalLength']>= 7) | (df['sepalLength'] <= 4)) & ((df['petalLength']>= 7) | (df['petalLength'] <= 1)) & ((df['petalWidth']>= 2.5) | (df['petalWidth'] <= 0.1)) ] = 'sepalLength, petalLength, petalWidth'\n",
        "df['label'].loc[((df['sepalLength']>= 7) | (df['sepalLength'] <= 4)) & ((df['sepalWidth']>= 4.5) | (df['sepalWidth'] <= 2)) & ((df['petalWidth']>= 2.5) | (df['petalWidth'] <= 0.1)) ] = 'sepalLength, sepalWidth, petalWidth'\n",
        "df['label'].loc[((df['sepalLength']>= 7) | (df['sepalLength'] <= 4)) & ((df['sepalWidth']>= 4.5) | (df['sepalWidth'] <= 2)) & ((df['petalLength']>= 7) | (df['petalLength'] <= 1))] = 'sepalLength, sepalWidth, petalLength'\n",
        "df['label'].loc[((df['sepalLength']>= 7) | (df['sepalLength'] <= 4)) & ((df['sepalWidth']>= 4.5) | (df['sepalWidth'] <= 2)) & ((df['petalLength']>= 7) | (df['petalLength'] <= 1)) & ((df['petalWidth']>= 2.5) | (df['petalWidth'] <= 0.1))] = 'sepalLength, sepalWidth, petalLength, petalWidth'\n",
        "print(df)"
      ]
    },
    {
      "cell_type": "markdown",
      "metadata": {
        "id": "qHmyH5CcjTt6"
      },
      "source": [
        "4. Realice un gráfico de *sepalLength* vs *petalLength* y otro de *sepalWidth* vs *petalWidth* categorizados por la etiqueta **label**. Concluya sus resultados."
      ]
    },
    {
      "cell_type": "code",
      "execution_count": 33,
      "metadata": {
        "colab": {
          "base_uri": "https://localhost:8080/",
          "height": 317
        },
        "id": "Syrb1LGqjTt7",
        "outputId": "bd428d6a-4724-4a03-ef05-d8c524903a64"
      },
      "outputs": [
        {
          "output_type": "stream",
          "name": "stdout",
          "text": [
            "['petalWidth' 'sepalLength, petalWidth' 0 'sepalLength'\n",
            " 'petalLength, petalWidth' 'sepalLength, sepalWidth' 'sepalWidth'\n",
            " 'petalLength']\n"
          ]
        },
        {
          "output_type": "display_data",
          "data": {
            "text/plain": [
              "<Figure size 432x288 with 2 Axes>"
            ],
            "image/png": "[encoded data removed]"
          },
          "metadata": {
            "needs_background": "light"
          }
        }
      ],
      "source": [
        "print(df['label'].unique())\n",
        "df1 = df.drop(['sepalWidth','petalWidth','species'], axis=1)\n",
        "df2 = df.drop(['sepalLength','petalLength','species'], axis=1)\n",
        "df11 = df1[df.label == 'petalWidth']\n",
        "df12 = df1[df.label == 'sepalLength, petalWidth']\n",
        "df13 = df1[df.label == 0]\n",
        "df14 = df1[df.label == 'sepalLength']\n",
        "df15 = df1[df.label == 'petalLength, petalWidth']\n",
        "df16 = df1[df.label == 'sepalLength, sepalWidth']\n",
        "df17 = df1[df.label == 'sepalWidth']\n",
        "df18 = df1[df.label == 'petalLength']\n",
        "\n",
        "fig, ax = plt.subplots(2)\n",
        "ax[0].plot(df11['petalLength'],df11['sepalLength'],label='petalWidth',color=\"black\",linewidth=1 )\n",
        "ax[0].plot(df12['petalLength'],df12['sepalLength'],label='sepalLength, petalWidth',color=\"green\",linewidth=1 )\n",
        "ax[0].plot(df13['petalLength'],df13['sepalLength'],label=0,color=\"blue\",linewidth=1 )\n",
        "ax[0].plot(df14['petalLength'],df14['sepalLength'],label='sepalLength',color=\"yellow\",linewidth=1 )\n",
        "ax[0].plot(df15['petalLength'],df15['sepalLength'],label='petalLength, petalWidth',color=\"pink\",linewidth=1 )\n",
        "ax[0].plot(df16['petalLength'],df16['sepalLength'],label='sepalLength, sepalWidth',color=\"purple\",linewidth=1 )\n",
        "ax[0].plot(df17['petalLength'],df17['sepalLength'],label='sepalWidth',color=\"red\",linewidth=1 )\n",
        "ax[0].plot(df18['petalLength'],df18['sepalLength'],label='petalLength',color=\"orange\",linewidth=1 )\n",
        "\n",
        "df21 = df2[df.label == 'petalWidth']\n",
        "df22 = df2[df.label == 'sepalLength, petalWidth']\n",
        "df23 = df2[df.label == 0]\n",
        "df24 = df2[df.label == 'sepalLength']\n",
        "df25 = df2[df.label == 'petalLength, petalWidth']\n",
        "df26 = df2[df.label == 'sepalLength, sepalWidth']\n",
        "df27 = df2[df.label == 'sepalWidth']\n",
        "df28 = df2[df.label == 'petalLength']\n",
        "\n",
        "ax[1].plot(df21['petalWidth'],df21['sepalWidth'],label='petalWidth',color=\"black\",linewidth=1 )\n",
        "ax[1].plot(df22['petalWidth'],df22['sepalWidth'],label='sepalLength, petalWidth',color=\"green\",linewidth=1 )\n",
        "ax[1].plot(df23['petalWidth'],df23['sepalWidth'],label=0,color=\"blue\",linewidth=1 )\n",
        "ax[1].plot(df24['petalWidth'],df24['sepalWidth'],label='sepalLength',color=\"yellow\",linewidth=1 )\n",
        "ax[1].plot(df25['petalWidth'],df25['sepalWidth'],label='petalLength, petalWidth',color=\"pink\",linewidth=1 )\n",
        "ax[1].plot(df26['petalWidth'],df26['sepalWidth'],label='sepalLength, sepalWidth',color=\"purple\",linewidth=1 )\n",
        "ax[1].plot(df27['petalWidth'],df27['sepalWidth'],label='sepalWidth',color=\"red\",linewidth=1 )\n",
        "ax[1].plot(df28['petalWidth'],df28['sepalWidth'],label='petalLength',color=\"orange\",linewidth=1 )\n",
        "\n",
        "plt.show()"
      ]
    },
    {
      "cell_type": "markdown",
      "metadata": {
        "id": "yRvLNzm6jTt7"
      },
      "source": [
        "5. Filtre los datos válidos y realice un gráfico de *sepalLength* vs *petalLength* categorizados por la etiqueta **species**."
      ]
    },
    {
      "cell_type": "code",
      "execution_count": 14,
      "metadata": {
        "colab": {
          "base_uri": "https://localhost:8080/",
          "height": 399
        },
        "id": "Rmk7PjENjTt7",
        "outputId": "017ff1b8-f951-4884-abd4-185ec4efb5d5"
      },
      "outputs": [
        {
          "output_type": "stream",
          "name": "stderr",
          "text": [
            "/usr/local/lib/python3.7/dist-packages/ipykernel_launcher.py:4: UserWarning: Boolean Series key will be reindexed to match DataFrame index.\n",
            "  after removing the cwd from sys.path.\n",
            "/usr/local/lib/python3.7/dist-packages/ipykernel_launcher.py:5: UserWarning: Boolean Series key will be reindexed to match DataFrame index.\n",
            "  \"\"\"\n",
            "/usr/local/lib/python3.7/dist-packages/ipykernel_launcher.py:6: UserWarning: Boolean Series key will be reindexed to match DataFrame index.\n",
            "  \n"
          ]
        },
        {
          "output_type": "display_data",
          "data": {
            "text/plain": [
              "<Figure size 432x288 with 1 Axes>"
            ],
            "image/png": "[encoded data removed]"
          },
          "metadata": {
            "needs_background": "light"
          }
        }
      ],
      "source": [
        "dfs = df.drop(['sepalWidth','petalWidth'],axis = 1)\n",
        "dfs = dfs[df.label == 0]\n",
        "dfs = dfs.drop(['label'],axis=1)\n",
        "dfs1 = dfs[df.species == 'virginica']\n",
        "dfs2 = dfs[df.species == 'setosa']\n",
        "dfs3 = dfs[df.species == 'versicolor']\n",
        "plt.plot(dfs1.sepalLength,dfs1.petalLength,label = 'virginica',color='green',linewidth=1)\n",
        "plt.plot(dfs2.sepalLength,dfs2.petalLength,label = 'setosa',color='purple',linewidth=1)\n",
        "plt.plot(dfs3.sepalLength,dfs3.petalLength,label = 'versicolor',color='pink',linewidth=1)\n",
        "plt.legend() # agregar etiquetado\n",
        "plt.title(\"sepalLenght vs petalLength, by species\") # agregar titulo\n",
        "plt.xlabel('sepalLenght') # nombre eje x\n",
        "plt.ylabel('petalLength') # nombre eje y\n",
        "plt.grid() # agregar grillado\n",
        "plt.show() # mostrar grafico"
      ]
    }
  ],
  "metadata": {
    "kernelspec": {
      "display_name": "Python 3",
      "language": "python",
      "name": "python3"
    },
    "language_info": {
      "codemirror_mode": {
        "name": "ipython",
        "version": 3
      },
      "file_extension": ".py",
      "mimetype": "text/x-python",
      "name": "python",
      "nbconvert_exporter": "python",
      "pygments_lexer": "ipython3",
      "version": "3.8.10"
    },
    "colab": {
      "provenance": []
    }
  },
  "nbformat": 4,
  "nbformat_minor": 0
}